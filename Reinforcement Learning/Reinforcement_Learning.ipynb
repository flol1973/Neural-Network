{
 "cells": [
  {
   "cell_type": "code",
   "execution_count": 4,
   "id": "e60c1934-2ea5-461c-9524-b7ce5cba128c",
   "metadata": {},
   "outputs": [],
   "source": [
    "import gymnasium as gym\n",
    "import os\n",
    "from stable_baselines3 import PPO\n",
    "from stable_baselines3.common.vec_env import DummyVecEnv\n",
    "from stable_baselines3.common.evaluation import evaluate_policy"
   ]
  },
  {
   "cell_type": "code",
   "execution_count": 5,
   "id": "7bc598cc-7e94-41b4-8822-088eed273fbc",
   "metadata": {},
   "outputs": [],
   "source": [
    "env_name = \"CartPole-v1\"\n",
    "env = gym.make(env_name,render_mode = \"human\")"
   ]
  },
  {
   "cell_type": "code",
   "execution_count": 3,
   "id": "7635bbf6-57e2-4950-833e-c1e551b6a609",
   "metadata": {},
   "outputs": [
    {
     "name": "stdout",
     "output_type": "stream",
     "text": [
      "Episode:1 Score:10.0\n",
      "Episode:2 Score:39.0\n",
      "Episode:3 Score:15.0\n",
      "Episode:4 Score:12.0\n",
      "Episode:5 Score:12.0\n",
      "Episode:6 Score:25.0\n",
      "Episode:7 Score:25.0\n",
      "Episode:8 Score:37.0\n",
      "Episode:9 Score:23.0\n",
      "Episode:10 Score:13.0\n"
     ]
    }
   ],
   "source": [
    "episodes = 10\n",
    "for episode in range(1, episodes+1):\n",
    "    state = env.reset()\n",
    "    done = False\n",
    "    score = 0 \n",
    "    \n",
    "    while not done:\n",
    "        env.render()\n",
    "        action = env.action_space.sample()\n",
    "        n_state, reward, done,why, info = env.step(action)\n",
    "        score+=reward\n",
    "    print('Episode:{} Score:{}'.format(episode, score))\n",
    "env.close()"
   ]
  },
  {
   "cell_type": "code",
   "execution_count": 7,
   "id": "2904b379-e8b6-4de9-9e4e-daba84c7a3ee",
   "metadata": {},
   "outputs": [
    {
     "data": {
      "text/plain": [
       "Discrete(2)"
      ]
     },
     "execution_count": 7,
     "metadata": {},
     "output_type": "execute_result"
    }
   ],
   "source": [
    "env.action_space"
   ]
  },
  {
   "cell_type": "code",
   "execution_count": 8,
   "id": "1ef83111-14c9-417d-b3ca-fe2bc7e40e9a",
   "metadata": {},
   "outputs": [
    {
     "data": {
      "text/plain": [
       "array([4.5151401e+00, 3.0834461e+38, 1.4006077e-01, 1.1274226e+38],\n",
       "      dtype=float32)"
      ]
     },
     "execution_count": 8,
     "metadata": {},
     "output_type": "execute_result"
    }
   ],
   "source": [
    "env.observation_space.sample()"
   ]
  },
  {
   "cell_type": "code",
   "execution_count": 6,
   "id": "2db3c67c-d711-41ae-9dd9-b26f986995e4",
   "metadata": {},
   "outputs": [],
   "source": [
    "log_path = os.path.join(\"Logs\")"
   ]
  },
  {
   "cell_type": "code",
   "execution_count": 7,
   "id": "d2cd58cc-2fc1-4ac5-a615-f4d2b458ba22",
   "metadata": {},
   "outputs": [
    {
     "data": {
      "text/plain": [
       "'Logs'"
      ]
     },
     "execution_count": 7,
     "metadata": {},
     "output_type": "execute_result"
    }
   ],
   "source": [
    "log_path"
   ]
  },
  {
   "cell_type": "code",
   "execution_count": 32,
   "id": "b4f200f8-5ba5-45b1-9010-074eb94d4be3",
   "metadata": {},
   "outputs": [
    {
     "name": "stdout",
     "output_type": "stream",
     "text": [
      "Using cpu device\n"
     ]
    }
   ],
   "source": [
    "env = gym.make(env_name,render_mode = \"human\")\n",
    "env = DummyVecEnv([lambda: env])\n",
    "model = PPO('MlpPolicy',env,verbose = 1 , tensorboard_log = log_path)"
   ]
  },
  {
   "cell_type": "code",
   "execution_count": 23,
   "id": "39658720-7f69-4e5e-afff-df8c00371cac",
   "metadata": {},
   "outputs": [
    {
     "name": "stdout",
     "output_type": "stream",
     "text": [
      "Logging to Logs\\PPO_3\n",
      "-----------------------------\n",
      "| time/              |      |\n",
      "|    fps             | 47   |\n",
      "|    iterations      | 1    |\n",
      "|    time_elapsed    | 42   |\n",
      "|    total_timesteps | 2048 |\n",
      "-----------------------------\n",
      "-----------------------------------------\n",
      "| time/                   |             |\n",
      "|    fps                  | 47          |\n",
      "|    iterations           | 2           |\n",
      "|    time_elapsed         | 86          |\n",
      "|    total_timesteps      | 4096        |\n",
      "| train/                  |             |\n",
      "|    approx_kl            | 0.010123136 |\n",
      "|    clip_fraction        | 0.077       |\n",
      "|    clip_range           | 0.2         |\n",
      "|    entropy_loss         | -0.608      |\n",
      "|    explained_variance   | 0.42        |\n",
      "|    learning_rate        | 0.0003      |\n",
      "|    loss                 | 24          |\n",
      "|    n_updates            | 40          |\n",
      "|    policy_gradient_loss | -0.0147     |\n",
      "|    value_loss           | 66          |\n",
      "-----------------------------------------\n",
      "------------------------------------------\n",
      "| time/                   |              |\n",
      "|    fps                  | 47           |\n",
      "|    iterations           | 3            |\n",
      "|    time_elapsed         | 129          |\n",
      "|    total_timesteps      | 6144         |\n",
      "| train/                  |              |\n",
      "|    approx_kl            | 0.0060880063 |\n",
      "|    clip_fraction        | 0.0624       |\n",
      "|    clip_range           | 0.2          |\n",
      "|    entropy_loss         | -0.59        |\n",
      "|    explained_variance   | 0.554        |\n",
      "|    learning_rate        | 0.0003       |\n",
      "|    loss                 | 26.1         |\n",
      "|    n_updates            | 50           |\n",
      "|    policy_gradient_loss | -0.011       |\n",
      "|    value_loss           | 65           |\n",
      "------------------------------------------\n"
     ]
    },
    {
     "data": {
      "text/plain": [
       "<stable_baselines3.ppo.ppo.PPO at 0x2552e069ea0>"
      ]
     },
     "execution_count": 23,
     "metadata": {},
     "output_type": "execute_result"
    }
   ],
   "source": [
    "model.learn(total_timesteps = 5000)"
   ]
  },
  {
   "cell_type": "code",
   "execution_count": 24,
   "id": "84843a8b-8c5f-41cf-a1f0-26b669d991af",
   "metadata": {},
   "outputs": [
    {
     "data": {
      "text/plain": [
       "(488.7, 33.9)"
      ]
     },
     "execution_count": 24,
     "metadata": {},
     "output_type": "execute_result"
    }
   ],
   "source": [
    "evaluate_policy(model,env,n_eval_episodes = 10, render = True)"
   ]
  },
  {
   "cell_type": "code",
   "execution_count": 33,
   "id": "d52da654-e5e4-46d6-abfe-edb79fbb08e8",
   "metadata": {},
   "outputs": [
    {
     "name": "stdout",
     "output_type": "stream",
     "text": [
      "Episode:1 Score:[12.]\n",
      "Episode:2 Score:[14.]\n",
      "Episode:3 Score:[14.]\n",
      "Episode:4 Score:[20.]\n",
      "Episode:5 Score:[14.]\n",
      "Episode:6 Score:[30.]\n",
      "Episode:7 Score:[11.]\n",
      "Episode:8 Score:[13.]\n",
      "Episode:9 Score:[53.]\n",
      "Episode:10 Score:[10.]\n"
     ]
    }
   ],
   "source": [
    "episodes = 10\n",
    "for episode in range(1, episodes+1):\n",
    "    obs = env.reset()\n",
    "    done = False\n",
    "    score = 0 \n",
    "    \n",
    "    while not done:\n",
    "        env.render()\n",
    "        action, _ = model.predict(obs)\n",
    "        n_state, reward, done, info = env.step(action)\n",
    "        score+=reward\n",
    "    print('Episode:{} Score:{}'.format(episode, score))\n",
    "env.close()"
   ]
  },
  {
   "cell_type": "code",
   "execution_count": 25,
   "id": "904bd103-4cef-475c-a2bc-878cde61f51d",
   "metadata": {},
   "outputs": [],
   "source": [
    "env.close()"
   ]
  },
  {
   "cell_type": "code",
   "execution_count": null,
   "id": "5b17149e-39da-4678-bc9f-7ef2d2a83c2d",
   "metadata": {},
   "outputs": [],
   "source": []
  }
 ],
 "metadata": {
  "kernelspec": {
   "display_name": "Python 3 (ipykernel)",
   "language": "python",
   "name": "python3"
  },
  "language_info": {
   "codemirror_mode": {
    "name": "ipython",
    "version": 3
   },
   "file_extension": ".py",
   "mimetype": "text/x-python",
   "name": "python",
   "nbconvert_exporter": "python",
   "pygments_lexer": "ipython3",
   "version": "3.10.13"
  }
 },
 "nbformat": 4,
 "nbformat_minor": 5
}
